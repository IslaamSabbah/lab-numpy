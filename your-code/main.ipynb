{
 "cells": [
  {
   "cell_type": "markdown",
   "metadata": {},
   "source": [
    "# Intrduction to NumPy\n",
    "\n",
    "\n",
    "#### 1. Import NumPy under the name np."
   ]
  },
  {
   "cell_type": "code",
   "execution_count": 108,
   "metadata": {},
   "outputs": [],
   "source": [
    "# your code here\n",
    "import numpy as np\n",
    "import random"
   ]
  },
  {
   "cell_type": "markdown",
   "metadata": {},
   "source": [
    "#### 2. Print your NumPy version."
   ]
  },
  {
   "cell_type": "code",
   "execution_count": 109,
   "metadata": {},
   "outputs": [
    {
     "data": {
      "text/plain": "<module 'numpy.version' from '/usr/local/lib/python3.7/site-packages/numpy/version.py'>"
     },
     "execution_count": 109,
     "metadata": {},
     "output_type": "execute_result"
    }
   ],
   "source": [
    "np.version\n",
    "# your code here"
   ]
  },
  {
   "cell_type": "markdown",
   "metadata": {},
   "source": [
    "#### 3. Generate a 2x3x5 3-dimensional array with random values. Assign the array to variable *a*.\n",
    "**Challenge**: there are at least three easy ways that use numpy to generate random arrays. How many ways can you find?"
   ]
  },
  {
   "cell_type": "code",
   "execution_count": 110,
   "metadata": {},
   "outputs": [
    {
     "data": {
      "text/plain": "(2, 3, 5)"
     },
     "execution_count": 110,
     "metadata": {},
     "output_type": "execute_result"
    }
   ],
   "source": [
    "# Method 1\n",
    "a= np.random.random((2,3,5))\n",
    "a.shape"
   ]
  },
  {
   "cell_type": "code",
   "execution_count": 111,
   "metadata": {},
   "outputs": [
    {
     "data": {
      "text/plain": "(2, 3, 5)"
     },
     "execution_count": 111,
     "metadata": {},
     "output_type": "execute_result"
    }
   ],
   "source": [
    "# Method 2\n",
    "a =np.empty((2,3,5))\n",
    "for i in range(1,3):\n",
    "    for j in range(1,4):\n",
    "        for z in range(1,6):\n",
    "            a[i:j:z]= random.randint(1,100)\n",
    "a.shape"
   ]
  },
  {
   "cell_type": "code",
   "execution_count": 112,
   "metadata": {},
   "outputs": [],
   "source": [
    "# Method 3"
   ]
  },
  {
   "cell_type": "markdown",
   "metadata": {},
   "source": [
    "#### 4. Print *a*.\n"
   ]
  },
  {
   "cell_type": "code",
   "execution_count": 61,
   "metadata": {},
   "outputs": [
    {
     "data": {
      "text/plain": "array([[[-3.10503618e+231, -1.73059642e-077,  6.01347002e-154,\n          6.01347002e-154,  2.64836839e-027],\n        [ 1.39835962e-076,  1.58268989e-319,  0.00000000e+000,\n         -3.10503618e+231,  1.49457224e-154],\n        [ 6.91691904e-323,  0.00000000e+000, -3.10503618e+231,\n          1.73059642e-077,  5.92878775e-323]],\n\n       [[ 3.50000000e+001,  3.50000000e+001,  3.50000000e+001,\n          3.50000000e+001,  3.50000000e+001],\n        [ 3.50000000e+001,  3.50000000e+001,  3.50000000e+001,\n          3.50000000e+001,  3.50000000e+001],\n        [ 3.50000000e+001,  3.50000000e+001,  3.50000000e+001,\n          3.50000000e+001,  3.50000000e+001]]])"
     },
     "execution_count": 61,
     "metadata": {},
     "output_type": "execute_result"
    }
   ],
   "source": [
    "a\n"
   ]
  },
  {
   "cell_type": "markdown",
   "metadata": {},
   "source": [
    "#### 5. Create a 5x2x3 3-dimensional array with all values equaling 1. Assign the array to variable *b*."
   ]
  },
  {
   "cell_type": "code",
   "execution_count": 62,
   "metadata": {},
   "outputs": [
    {
     "data": {
      "text/plain": "(5, 2, 3)"
     },
     "execution_count": 62,
     "metadata": {},
     "output_type": "execute_result"
    }
   ],
   "source": [
    "# your code here\n",
    "b=np.ones((5,2,3))\n",
    "b.shape"
   ]
  },
  {
   "cell_type": "markdown",
   "metadata": {},
   "source": [
    "#### 6. Print *b*.\n",
    "print(b)"
   ]
  },
  {
   "cell_type": "code",
   "execution_count": 27,
   "metadata": {},
   "outputs": [
    {
     "data": {
      "text/plain": "array([[[1., 1., 1.],\n        [1., 1., 1.]],\n\n       [[1., 1., 1.],\n        [1., 1., 1.]],\n\n       [[1., 1., 1.],\n        [1., 1., 1.]],\n\n       [[1., 1., 1.],\n        [1., 1., 1.]],\n\n       [[1., 1., 1.],\n        [1., 1., 1.]]])"
     },
     "execution_count": 27,
     "metadata": {},
     "output_type": "execute_result"
    }
   ],
   "source": [
    "# your code here\n",
    "b"
   ]
  },
  {
   "cell_type": "markdown",
   "metadata": {},
   "source": [
    "#### 7. Do *a* and *b* have the same size? How do you prove that in Python code?"
   ]
  },
  {
   "cell_type": "code",
   "execution_count": 63,
   "metadata": {},
   "outputs": [
    {
     "name": "stdout",
     "output_type": "stream",
     "text": "false\n"
    }
   ],
   "source": [
    "# your code here\n",
    "if (a.shape == b.shape):\n",
    "    print(\" True \")\n",
    "else:\n",
    "    print(\"false\")"
   ]
  },
  {
   "cell_type": "markdown",
   "metadata": {},
   "source": [
    "#### 8. Are you able to add *a* and *b*? Why or why not?\n"
   ]
  },
  {
   "cell_type": "code",
   "execution_count": 29,
   "metadata": {},
   "outputs": [],
   "source": [
    "# your answer here\n",
    "#no because they are in different dimensions\n"
   ]
  },
  {
   "cell_type": "markdown",
   "metadata": {},
   "source": [
    "#### 9. Transpose *b* so that it has the same structure of *a* (i.e. become a 2x3x5 array). Assign the transposed array to variable *c*."
   ]
  },
  {
   "cell_type": "code",
   "execution_count": 78,
   "metadata": {},
   "outputs": [
    {
     "data": {
      "text/plain": "(2, 3, 5)"
     },
     "execution_count": 78,
     "metadata": {},
     "output_type": "execute_result"
    }
   ],
   "source": [
    "# your code here\n",
    "c=np.transpose(b,(1,2,0))\n",
    "c.shape\n",
    "\n"
   ]
  },
  {
   "cell_type": "markdown",
   "metadata": {},
   "source": [
    "#### 10. Try to add *a* and *c*. Now it should work. Assign the sum to variable *d*. But why does it work now?"
   ]
  },
  {
   "cell_type": "code",
   "execution_count": 90,
   "metadata": {},
   "outputs": [],
   "source": [
    "# your code/answer here\n",
    "d= a+c"
   ]
  },
  {
   "cell_type": "markdown",
   "metadata": {},
   "source": [
    "#### 11. Print *a* and *d*. Notice the difference and relation of the two array in terms of the values? Explain."
   ]
  },
  {
   "cell_type": "code",
   "execution_count": 91,
   "metadata": {},
   "outputs": [
    {
     "name": "stdout",
     "output_type": "stream",
     "text": "[[[-3.10503618e+231 -1.73059642e-077  6.01347002e-154  6.01347002e-154\n    2.64836839e-027]\n  [ 1.39835962e-076  1.58268989e-319  0.00000000e+000 -3.10503618e+231\n    1.49457224e-154]\n  [ 6.91691904e-323  0.00000000e+000 -3.10503618e+231  1.73059642e-077\n    5.92878775e-323]]\n\n [[ 3.50000000e+001  3.50000000e+001  3.50000000e+001  3.50000000e+001\n    3.50000000e+001]\n  [ 3.50000000e+001  3.50000000e+001  3.50000000e+001  3.50000000e+001\n    3.50000000e+001]\n  [ 3.50000000e+001  3.50000000e+001  3.50000000e+001  3.50000000e+001\n    3.50000000e+001]]]\n[[[-3.10503618e+231  1.00000000e+000  1.00000000e+000  1.00000000e+000\n    1.00000000e+000]\n  [ 1.00000000e+000  1.00000000e+000  1.00000000e+000 -3.10503618e+231\n    1.00000000e+000]\n  [ 1.00000000e+000  1.00000000e+000 -3.10503618e+231  1.00000000e+000\n    1.00000000e+000]]\n\n [[ 3.60000000e+001  3.60000000e+001  3.60000000e+001  3.60000000e+001\n    3.60000000e+001]\n  [ 3.60000000e+001  3.60000000e+001  3.60000000e+001  3.60000000e+001\n    3.60000000e+001]\n  [ 3.60000000e+001  3.60000000e+001  3.60000000e+001  3.60000000e+001\n    3.60000000e+001]]]\n"
    }
   ],
   "source": [
    "# your code/answer here\n",
    "print(a)\n",
    "print(d)"
   ]
  },
  {
   "cell_type": "markdown",
   "metadata": {},
   "source": [
    "#### 12. Multiply *a* and *c*. Assign the result to *e*."
   ]
  },
  {
   "cell_type": "code",
   "execution_count": 81,
   "metadata": {},
   "outputs": [
    {
     "data": {
      "text/plain": "array([[[-3.10503618e+231, -1.73059642e-077,  6.01347002e-154,\n          6.01347002e-154,  2.64836839e-027],\n        [ 1.39835962e-076,  1.58268989e-319,  0.00000000e+000,\n         -3.10503618e+231,  1.49457224e-154],\n        [ 6.91691904e-323,  0.00000000e+000, -3.10503618e+231,\n          1.73059642e-077,  5.92878775e-323]],\n\n       [[ 3.50000000e+001,  3.50000000e+001,  3.50000000e+001,\n          3.50000000e+001,  3.50000000e+001],\n        [ 3.50000000e+001,  3.50000000e+001,  3.50000000e+001,\n          3.50000000e+001,  3.50000000e+001],\n        [ 3.50000000e+001,  3.50000000e+001,  3.50000000e+001,\n          3.50000000e+001,  3.50000000e+001]]])"
     },
     "execution_count": 81,
     "metadata": {},
     "output_type": "execute_result"
    }
   ],
   "source": [
    "# your code here\n",
    "e=a*c\n",
    "e"
   ]
  },
  {
   "cell_type": "markdown",
   "metadata": {},
   "source": [
    "#### 13. Does *e* equal to *a*? Why or why not?\n",
    "is e equal a"
   ]
  },
  {
   "cell_type": "code",
   "execution_count": 82,
   "metadata": {},
   "outputs": [
    {
     "name": "stdout",
     "output_type": "stream",
     "text": "[[[-3.10503618e+231 -1.73059642e-077  6.01347002e-154  6.01347002e-154\n    2.64836839e-027]\n  [ 1.39835962e-076  1.58268989e-319  0.00000000e+000 -3.10503618e+231\n    1.49457224e-154]\n  [ 6.91691904e-323  0.00000000e+000 -3.10503618e+231  1.73059642e-077\n    5.92878775e-323]]\n\n [[ 3.50000000e+001  3.50000000e+001  3.50000000e+001  3.50000000e+001\n    3.50000000e+001]\n  [ 3.50000000e+001  3.50000000e+001  3.50000000e+001  3.50000000e+001\n    3.50000000e+001]\n  [ 3.50000000e+001  3.50000000e+001  3.50000000e+001  3.50000000e+001\n    3.50000000e+001]]]\n"
    }
   ],
   "source": [
    "# your code/answer here\n",
    "print(e)"
   ]
  },
  {
   "cell_type": "code",
   "execution_count": 83,
   "metadata": {},
   "outputs": [
    {
     "name": "stdout",
     "output_type": "stream",
     "text": "[[[-3.10503618e+231 -1.73059642e-077  6.01347002e-154  6.01347002e-154\n    2.64836839e-027]\n  [ 1.39835962e-076  1.58268989e-319  0.00000000e+000 -3.10503618e+231\n    1.49457224e-154]\n  [ 6.91691904e-323  0.00000000e+000 -3.10503618e+231  1.73059642e-077\n    5.92878775e-323]]\n\n [[ 3.50000000e+001  3.50000000e+001  3.50000000e+001  3.50000000e+001\n    3.50000000e+001]\n  [ 3.50000000e+001  3.50000000e+001  3.50000000e+001  3.50000000e+001\n    3.50000000e+001]\n  [ 3.50000000e+001  3.50000000e+001  3.50000000e+001  3.50000000e+001\n    3.50000000e+001]]]\n"
    }
   ],
   "source": [
    "print(a)"
   ]
  },
  {
   "cell_type": "markdown",
   "metadata": {},
   "source": [
    "#### 14. Identify the max, min, and mean values in *d*. Assign those values to variables *d_max*, *d_min* and *d_mean*."
   ]
  },
  {
   "cell_type": "code",
   "execution_count": 92,
   "metadata": {},
   "outputs": [
    {
     "data": {
      "text/plain": "(2, 3, 5)"
     },
     "execution_count": 92,
     "metadata": {},
     "output_type": "execute_result"
    }
   ],
   "source": [
    "# your code here\n",
    "d_max=np.amax(d)\n",
    "d_min=np.amin(d)\n",
    "d_mean=np.mean(d)\n",
    "d.shape"
   ]
  },
  {
   "cell_type": "markdown",
   "metadata": {},
   "source": [
    "#### 15. Now we want to label the values in *d*. First create an empty array *f* with the same shape (i.e. 2x3x5) as *d* using `np.empty`.\n"
   ]
  },
  {
   "cell_type": "code",
   "execution_count": 93,
   "metadata": {},
   "outputs": [],
   "source": [
    "# your code here\n",
    "f=np.empty((2,3,5))"
   ]
  },
  {
   "cell_type": "markdown",
   "metadata": {},
   "source": [
    "#### 16. Populate the values in *f*. \n",
    "\n",
    "For each value in *d*, if it's larger than *d_min* but smaller than *d_mean*, assign 25 to the corresponding value in *f*. If a value in *d* is larger than *d_mean* but smaller than *d_max*, assign 75 to the corresponding value in *f*. If a value equals to *d_mean*, assign 50 to the corresponding value in *f*. Assign 0 to the corresponding value(s) in *f* for *d_min* in *d*. Assign 100 to the corresponding value(s) in *f* for *d_max* in *d*. In the end, f should have only the following values: 0, 25, 50, 75, and 100.\n",
    "\n",
    "**Note**: you don't have to use Numpy in this question."
   ]
  },
  {
   "cell_type": "code",
   "execution_count": 106,
   "metadata": {},
   "outputs": [
    {
     "ename": "SyntaxError",
     "evalue": "can't assign to function call (<ipython-input-106-4496478bd056>, line 5)",
     "output_type": "error",
     "traceback": [
      "\u001b[0;36m  File \u001b[0;32m\"<ipython-input-106-4496478bd056>\"\u001b[0;36m, line \u001b[0;32m5\u001b[0m\n\u001b[0;31m    np.any(f[0:3,i,j]) = 75\u001b[0m\n\u001b[0m    ^\u001b[0m\n\u001b[0;31mSyntaxError\u001b[0m\u001b[0;31m:\u001b[0m can't assign to function call\n"
     ]
    }
   ],
   "source": [
    "# your code here\n",
    "for i in range(d.shape[1]):\n",
    "  for j in range(d.shape[2]):\n",
    "    if np.any(d[0:3,i,j] > d_mean) and np.any(d[0:3,i,j]<d_max):\n",
    "        np.any(f[0:3,i,j]) = 75\n",
    "    if np.any(d[0:3,i,j])== d_mean:\n",
    "        np.any(f[0:3,i,j]) = 50\n",
    "    if np.any(d[0:3,i,j] )== d_mean:\n",
    "        np.any(f[0:3,i,j]) = 50\n",
    "    if np.any(d[0:3,i,j]) == d_min:\n",
    "        np.any(f[0:3,i,j]) = 0\n",
    "    if np.any(d[0:3,i,j]) == d_max:\n",
    "       np.any(f[0:3,i,j]) = 100\n"
   ]
  },
  {
   "cell_type": "markdown",
   "metadata": {},
   "source": [
    "#### 17. Print *d* and *f*. Do you have your expected *f*?\n",
    "For instance, if your *d* is:\n",
    "```python\n",
    "[[[1.85836099, 1.67064465, 1.62576044, 1.40243961, 1.88454931],\n",
    "[1.75354326, 1.69403643, 1.36729252, 1.61415071, 1.12104981],\n",
    "[1.72201435, 1.1862918 , 1.87078449, 1.7726778 , 1.88180042]],\n",
    "[[1.44747908, 1.31673383, 1.02000951, 1.52218947, 1.97066381],\n",
    "[1.79129243, 1.74983003, 1.96028037, 1.85166831, 1.65450881],\n",
    "[1.18068344, 1.9587381 , 1.00656599, 1.93402165, 1.73514584]]]\n",
    "```\n",
    "Your *f* should be:\n",
    "```python\n",
    "[[[ 75.,  75.,  75.,  25.,  75.],\n",
    "[ 75.,  75.,  25.,  25.,  25.],\n",
    "[ 75.,  25.,  75.,  75.,  75.]],\n",
    "[[ 25.,  25.,  25.,  25., 100.],\n",
    "[ 75.,  75.,  75.,  75.,  75.],\n",
    "[ 25.,  75.,   0.,  75.,  75.]]]\n",
    "```"
   ]
  },
  {
   "cell_type": "code",
   "execution_count": 107,
   "metadata": {},
   "outputs": [
    {
     "name": "stdout",
     "output_type": "stream",
     "text": "[[[-3.10503618e+231  1.00000000e+000  1.00000000e+000  1.00000000e+000\n    1.00000000e+000]\n  [ 1.00000000e+000  1.00000000e+000  1.00000000e+000 -3.10503618e+231\n    1.00000000e+000]\n  [ 1.00000000e+000  1.00000000e+000 -3.10503618e+231  1.00000000e+000\n    1.00000000e+000]]\n\n [[ 3.60000000e+001  3.60000000e+001  3.60000000e+001  3.60000000e+001\n    3.60000000e+001]\n  [ 3.60000000e+001  3.60000000e+001  3.60000000e+001  3.60000000e+001\n    3.60000000e+001]\n  [ 3.60000000e+001  3.60000000e+001  3.60000000e+001  3.60000000e+001\n    3.60000000e+001]]]\n"
    }
   ],
   "source": [
    "# your code here\n",
    "print(d)"
   ]
  },
  {
   "cell_type": "markdown",
   "metadata": {},
   "source": [
    "#### 18. Bonus question: instead of using numbers (i.e. 0, 25, 50, 75, and 100), use string values  (\"A\", \"B\", \"C\", \"D\", and \"E\") to label the array elements. For the example above, the expected result is:\n",
    "\n",
    "```python\n",
    "[[[ 'D',  'D',  'D',  'B',  'D'],\n",
    "[ 'D',  'D',  'B',  'B',  'B'],\n",
    "[ 'D',  'B',  'D',  'D',  'D']],\n",
    "[[ 'B',  'B',  'B',  'B',  'E'],\n",
    "[ 'D',  'D',  'D',  'D',  'D'],\n",
    "[ 'B',  'D',   'A',  'D', 'D']]]\n",
    "```\n",
    "**Note**: you don't have to use Numpy in this question."
   ]
  },
  {
   "cell_type": "code",
   "execution_count": null,
   "metadata": {},
   "outputs": [],
   "source": [
    "# your code here"
   ]
  }
 ],
 "metadata": {
  "kernelspec": {
   "display_name": "Python 3",
   "language": "python",
   "name": "python3"
  },
  "language_info": {
   "codemirror_mode": {
    "name": "ipython",
    "version": 3
   },
   "file_extension": ".py",
   "mimetype": "text/x-python",
   "name": "python",
   "nbconvert_exporter": "python",
   "pygments_lexer": "ipython3",
   "version": "3.7.2"
  }
 },
 "nbformat": 4,
 "nbformat_minor": 2
}